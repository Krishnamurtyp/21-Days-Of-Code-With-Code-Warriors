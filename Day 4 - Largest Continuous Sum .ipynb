{
 "cells": [
  {
   "cell_type": "markdown",
   "metadata": {},
   "source": [
    "# Largest Continuous Sum\n",
    "\n",
    "## Problem\n",
    "Given an array of integers (positive and negative) find the largest continuous sum. \n",
    "Example<br>\n",
    "a = [-2, -3, 4, -1, -2, 1, 5, -3] <br>\n",
    "large_cont_sum(a)<br>\n",
    "7\n",
    "\n",
    "## Solution\n",
    "### Using Kadane’s Algorithm:\n",
    "\n",
    "Initialize:<br>\n",
    "    $\\;\\;\\;\\;\\;\\;$best_sum = 0<br>\n",
    "    $\\;\\;\\;\\;\\;\\;$current_sum = 0<br>\n",
    "\n",
    "Loop for each element of the array<br>\n",
    "  $\\;\\;\\;\\;\\;\\;$(a) current_sum = current_sum + a[i]<br>\n",
    "  $\\;\\;\\;\\;\\;\\;$(b) if(best_sum < current_sum)<br>\n",
    "  $\\;\\;\\;\\;\\;\\;$         $\\;\\;\\;\\;\\;\\;$ best_sum = current_sum<br>\n",
    " $\\;\\;\\;\\;\\;\\;$ (c) if(current_sum < 0)<br>\n",
    "     $\\;\\;\\;\\;\\;\\;$      $\\;\\;\\;\\;\\;\\;$ current_sum = 0<br>\n",
    "return best_sum<br>\n",
    "\n",
    "Let's see the code:"
   ]
  },
  {
   "cell_type": "code",
   "execution_count": 10,
   "metadata": {},
   "outputs": [],
   "source": [
    "def large_cont_sum(arr):\n",
    "    if len(arr)==0: \n",
    "        return 0\n",
    "    curr_sum=0\n",
    "    best_sum=0\n",
    "    for i in arr:\n",
    "        curr_sum+=i\n",
    "        if curr_sum>best_sum:\n",
    "            best_sum=curr_sum\n",
    "        if curr_sum<0:\n",
    "            curr_sum=0\n",
    "    return best_sum"
   ]
  },
  {
   "cell_type": "markdown",
   "metadata": {},
   "source": [
    "\n",
    "If the array is all positive, then the result is simply the sum of all numbers. The negative numbers in the array will cause us to need to begin checking sequences.  \n",
    "\n",
    "The algorithm is, we start summing up the numbers and store in a current sum variable. After adding each element, we check whether the current sum is larger than maximum sum encountered so far. If it is, we update the maximum sum. As long as the current sum is positive, we keep adding the numbers. When the current sum becomes negative, we start with a new current sum. Because a negative current sum will only decrease the sum of a future sequence. The onlyexception of this code is that if there\n",
    "is only  negative numbers in the array it will output 0\n"
   ]
  },
  {
   "cell_type": "code",
   "execution_count": 11,
   "metadata": {},
   "outputs": [
    {
     "data": {
      "text/plain": [
       "29"
      ]
     },
     "execution_count": 11,
     "metadata": {},
     "output_type": "execute_result"
    }
   ],
   "source": [
    "large_cont_sum([1,2,-1,3,4,10,10,-10,-1])"
   ]
  },
  {
   "cell_type": "markdown",
   "metadata": {},
   "source": [
    "## Better Approach\n",
    "### Using Max and not initializing to 0\n",
    "Note that we don’t reset the current sum to 0 because the array can contain all negative integers. Then the result would be the largest negative number.\n",
    "\n",
    "Let's see the code:"
   ]
  },
  {
   "cell_type": "code",
   "execution_count": 12,
   "metadata": {},
   "outputs": [],
   "source": [
    "def large_cont_sum(arr): \n",
    "    \n",
    "    # Check to see if array is length 0\n",
    "    if len(arr)==0: \n",
    "        return 0\n",
    "    \n",
    "    # Start the max and current sum at the first element\n",
    "    max_sum=current_sum=arr[0] \n",
    "    \n",
    "    # For every element in array\n",
    "    for num in arr[1:]: \n",
    "        \n",
    "        # Set current sum as the higher of the two\n",
    "        current_sum=max(current_sum+num, num)\n",
    "        \n",
    "        # Set max as the higher between the currentSum and the current max\n",
    "        max_sum=max(current_sum, max_sum) \n",
    "        \n",
    "    return max_sum "
   ]
  },
  {
   "cell_type": "code",
   "execution_count": 13,
   "metadata": {},
   "outputs": [
    {
     "data": {
      "text/plain": [
       "-1"
      ]
     },
     "execution_count": 13,
     "metadata": {},
     "output_type": "execute_result"
    }
   ],
   "source": [
    "large_cont_sum([-1,-2,-1,-3,-4,-10,-10,-10,-1])"
   ]
  },
  {
   "cell_type": "code",
   "execution_count": null,
   "metadata": {},
   "outputs": [],
   "source": []
  }
 ],
 "metadata": {
  "kernelspec": {
   "display_name": "Python 3",
   "language": "python",
   "name": "python3"
  },
  "language_info": {
   "codemirror_mode": {
    "name": "ipython",
    "version": 3
   },
   "file_extension": ".py",
   "mimetype": "text/x-python",
   "name": "python",
   "nbconvert_exporter": "python",
   "pygments_lexer": "ipython3",
   "version": "3.7.4"
  }
 },
 "nbformat": 4,
 "nbformat_minor": 2
}
