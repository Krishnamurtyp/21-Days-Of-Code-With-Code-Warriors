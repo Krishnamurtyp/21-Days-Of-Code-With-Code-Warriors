{
 "cells": [
  {
   "cell_type": "markdown",
   "metadata": {},
   "source": [
    "# 1. Sentence Reversal\n",
    "\n",
    "## Problem\n",
    "\n",
    "Given a string of words, reverse all the words. For example:\n",
    "\n",
    "Given:\n",
    "    \n",
    "    'This is the best'\n",
    "\n",
    "Return:\n",
    "\n",
    "    'best the is This'\n",
    "\n",
    "As part of this exercise you should remove all leading and trailing whitespace. So that inputs such as:\n",
    "\n",
    "    '  space here'  and 'space here      '\n",
    "\n",
    "both become:\n",
    "\n",
    "    'here space'\n",
    "\n",
    "## Solution\n",
    "### Using split and join\n",
    "\n",
    "We could take advantage of Python's abilities and solve the problem with the use of **split()** and some slicing or use of **reversed**:"
   ]
  },
  {
   "cell_type": "code",
   "execution_count": 1,
   "metadata": {},
   "outputs": [],
   "source": [
    "def rev_word1(s):\n",
    "    return \" \".join(reversed(s.split()))\n",
    "\n",
    "#Or\n",
    "\n",
    "def rev_word2(s):\n",
    "    return \" \".join(s.split()[::-1])"
   ]
  },
  {
   "cell_type": "code",
   "execution_count": 4,
   "metadata": {},
   "outputs": [
    {
     "data": {
      "text/plain": [
       "'go? to ready you are John, Hi'"
      ]
     },
     "execution_count": 4,
     "metadata": {},
     "output_type": "execute_result"
    }
   ],
   "source": [
    "rev_word1('Hi John,   are you ready to go?')"
   ]
  },
  {
   "cell_type": "code",
   "execution_count": 6,
   "metadata": {},
   "outputs": [
    {
     "data": {
      "text/plain": [
       "'go? to ready you are John, Hi'"
      ]
     },
     "execution_count": 6,
     "metadata": {},
     "output_type": "execute_result"
    }
   ],
   "source": [
    "rev_word2('Hi John,   are you ready to go?')"
   ]
  },
  {
   "cell_type": "markdown",
   "metadata": {},
   "source": [
    "# 2. String Compression\n",
    "\n",
    "## Problem\n",
    "\n",
    "Given a string in the form 'AAAABBBBCCCCCDDEEEE' compress it to become 'A4B4C5D2E4'. For this problem, you can falsely \"compress\" strings of single or double letters. For instance, it is okay for 'AAB' to return 'A2B1' even though this technically takes more space. \n",
    "\n",
    "The function should also be case sensitive, so that a string 'AAAaaa' returns 'A3a3'."
   ]
  },
  {
   "cell_type": "markdown",
   "metadata": {},
   "source": [
    "## Solution\n",
    "## Approach 1\n",
    "### Using looping"
   ]
  },
  {
   "cell_type": "markdown",
   "metadata": {},
   "source": [
    "This approach is simple we just need to first check that string is non-empty if it's empty then **return empty string**.<br>\n",
    "We will take three variables:<br>\n",
    "**prev_char:-** which will keep track of last character iterated<br>\n",
    "**count:-** which will track the occurence of the character until new chracter is arrived<br>\n",
    "**comp_str:-** which will store the compressed string i.e. the Output\n",
    "In this approach we need to traverse through the string and if we find that preious character is different from current one then we will add the previous character to the output string and also add the count and lastly update the previous character and count.<br>\n",
    "If previous and current character matches then we will just update the count.<br>\n",
    "We need to add the last part manually because in last occurence the execution won't execute if section.<br>"
   ]
  },
  {
   "cell_type": "code",
   "execution_count": 6,
   "metadata": {},
   "outputs": [],
   "source": [
    "def compress(s):\n",
    "    if len(s)<1:\n",
    "        return \"\"\n",
    "    prev_char=s[0]\n",
    "    count=0\n",
    "    comp_str=\"\"\n",
    "    for i in s:\n",
    "        if prev_char!=i:\n",
    "            comp_str+=prev_char\n",
    "            comp_str+=str(count)\n",
    "            prev_char=i\n",
    "            count=1\n",
    "        else:\n",
    "            count+=1\n",
    "    comp_str+=i\n",
    "    comp_str+=str(count)\n",
    "    return comp_str\n",
    "            \n",
    "        "
   ]
  },
  {
   "cell_type": "markdown",
   "metadata": {},
   "source": [
    "## Approach 2\n",
    "### Using Ordered Dictionary from collection module\n",
    "#### The OrderedDict\n",
    "OrderedDict is a dictionary where keys maintain the order in which they are inserted, which means if you change the value of a key later, it will not change the position of the key.<br>\n",
    "\n",
    "#### Import OrderedDict\n",
    "To use OrderedDict you have to import it from the collections module.<br>\n",
    "***from collections import OrderedDict***\n",
    "\n",
    "In this approach we need special type of dictionary which will keep track of keys in the order it is entered that's why we are using **Collection** module.<br>\n",
    "We are keeping track of the occurrence of the characters and then at last printing them while concatenating the string."
   ]
  },
  {
   "cell_type": "code",
   "execution_count": 7,
   "metadata": {},
   "outputs": [],
   "source": [
    "from collections import OrderedDict\n",
    "def compress(s):\n",
    "    out=\"\"\n",
    "    if len(s)<1:\n",
    "        return \"\"\n",
    "    od = OrderedDict()\n",
    "    for i in s:\n",
    "        if i not in od:\n",
    "            od[i]=1\n",
    "        else:\n",
    "            od[i]+=1\n",
    "    for i in od:\n",
    "        out+=i\n",
    "        out+=str(od[i])\n",
    "    return out\n",
    "        \n",
    "    "
   ]
  },
  {
   "cell_type": "code",
   "execution_count": 9,
   "metadata": {},
   "outputs": [
    {
     "data": {
      "text/plain": [
       "'A2a2B6C3d3'"
      ]
     },
     "execution_count": 9,
     "metadata": {},
     "output_type": "execute_result"
    }
   ],
   "source": [
    "compress(\"AAaaBBBBBBCCCddd\")"
   ]
  },
  {
   "cell_type": "code",
   "execution_count": null,
   "metadata": {},
   "outputs": [],
   "source": []
  }
 ],
 "metadata": {
  "kernelspec": {
   "display_name": "Python 3",
   "language": "python",
   "name": "python3"
  },
  "language_info": {
   "codemirror_mode": {
    "name": "ipython",
    "version": 3
   },
   "file_extension": ".py",
   "mimetype": "text/x-python",
   "name": "python",
   "nbconvert_exporter": "python",
   "pygments_lexer": "ipython3",
   "version": "3.7.4"
  }
 },
 "nbformat": 4,
 "nbformat_minor": 2
}
