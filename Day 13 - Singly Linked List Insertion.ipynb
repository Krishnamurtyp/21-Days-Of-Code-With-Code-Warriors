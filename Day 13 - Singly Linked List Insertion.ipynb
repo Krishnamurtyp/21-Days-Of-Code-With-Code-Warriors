{
 "cells": [
  {
   "attachments": {},
   "cell_type": "markdown",
   "metadata": {},
   "source": [
    "# Linked List\n",
    "![singly.JPG](https://i.ibb.co/XY1VjYZ/singly.jpg)\n",
    "## Structure<br>\n",
    "Every linked list consists of nodes, as shown in the illustration above. Every node has two components:\n",
    "\n",
    "Data<br>\n",
    "Next<br>\n",
    "The data component allows a node in the linked list to store an element of data that can be of type string, character, number, or any other type of object. In the illustration above, the data elements are A, B, and C which are of character type.\n",
    "\n",
    "The next component in every node is a pointer that points from one node to another.\n",
    "\n",
    "The start of the linked list is referred to as the head. head is a pointer that points to the beginning of the linked list, so if we want to traverse the linked list to obtain or access an element of the linked list, we’ll start from head and move along.\n",
    "\n",
    "The last component of a singly linked list is a notion of null. This null idea terminates the linked list. In Python, we call this None. The last node in a singly linked list points to a null object, and that tells you that it’s the end of the linked list.\n",
    "#\n",
    "we’ll implement the class methods to insert elements in a linked list:<br>\n",
    "1) append<br>\n",
    "2) prepend<br>\n",
    "3) insert_after_node<br>"
   ]
  },
  {
   "cell_type": "code",
   "execution_count": 10,
   "metadata": {},
   "outputs": [],
   "source": [
    "class Node:\n",
    "    # Initialize the new node\n",
    "    def __init__(self,data):\n",
    "        self.data=data\n",
    "        self.next=None\n",
    "        \n",
    "class LinkedList:\n",
    "    def __init__(self):\n",
    "        self.head=None\n",
    "        \n",
    "    # Add node at begining of list    \n",
    "    def prepend(self,data):\n",
    "        new_node=Node(data)  \n",
    "        new_node.next=self.head\n",
    "        self.head = new_node\n",
    "        \n",
    "        \n",
    "    # Add node at end of list      \n",
    "    def append(self,data):\n",
    "        new_node=Node(data)\n",
    "        if self.head is None:\n",
    "            self.head=new_node\n",
    "            return\n",
    "        \n",
    "        end_node=self.head\n",
    "        while end_node.next:\n",
    "            end_node=end_node.next\n",
    "        end_node.next=new_node\n",
    "        \n",
    "        \n",
    "     # Add node at a specific position   \n",
    "    def insert_after_node(self,prev_node,data):\n",
    "        if not prev_node:\n",
    "            print(\"Previous node doesn't exists\")\n",
    "        else:\n",
    "            new_node = Node(data)\n",
    "            new_node.next = prev_node.next\n",
    "            prev_node.next = new_node\n",
    "            \n",
    "        \n",
    "        \n",
    "    def print_list(self):\n",
    "        temp_node = self.head\n",
    "        while temp_node:\n",
    "            print(temp_node.data)\n",
    "            temp_node=temp_node.next\n",
    "        "
   ]
  },
  {
   "cell_type": "markdown",
   "metadata": {},
   "source": [
    "### 1) Append\n",
    "In append we have two cases:<br>If the Linked List is empty then we have to point the head pointer to the new node just created<br>If Linked List is not empty then we need to traverse the whole list and reach at the end of the list. Set the previous last element next to address of new node and the new node next will be null.\n",
    "\n",
    "### 2) Prepend\n",
    "This is the easiest procedure in Insertion in Linked List we just had to create a new node and set the next attribute to the previous head node and now head of list will point to this new node.\n",
    "\n",
    "### 3) Insert After Node\n",
    "In this operation we also need previous node along with the data to be inserted. We just need to change the previous node next attribute to the new node address and new node next to previous node's next."
   ]
  },
  {
   "cell_type": "code",
   "execution_count": 9,
   "metadata": {},
   "outputs": [
    {
     "name": "stdout",
     "output_type": "stream",
     "text": [
      "0\n",
      "1\n",
      "A\n",
      "B\n",
      "C\n",
      "D\n"
     ]
    }
   ],
   "source": [
    "llist = LinkedList()\n",
    "llist.append(\"A\")\n",
    "llist.append(\"B\")\n",
    "llist.append(\"C\")\n",
    "llist.append(\"D\")\n",
    "llist.prepend(\"0\")\n",
    "llist.insert_after_node(llist.head,1)\n",
    "\n",
    "\n",
    "llist.print_list()"
   ]
  },
  {
   "cell_type": "code",
   "execution_count": null,
   "metadata": {},
   "outputs": [],
   "source": []
  }
 ],
 "metadata": {
  "kernelspec": {
   "display_name": "Python 3",
   "language": "python",
   "name": "python3"
  },
  "language_info": {
   "codemirror_mode": {
    "name": "ipython",
    "version": 3
   },
   "file_extension": ".py",
   "mimetype": "text/x-python",
   "name": "python",
   "nbconvert_exporter": "python",
   "pygments_lexer": "ipython3",
   "version": "3.7.4"
  }
 },
 "nbformat": 4,
 "nbformat_minor": 2
}
