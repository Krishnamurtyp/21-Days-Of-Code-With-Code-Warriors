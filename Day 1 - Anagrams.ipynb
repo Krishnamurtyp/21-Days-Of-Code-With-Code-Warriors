{
 "cells": [
  {
   "cell_type": "markdown",
   "metadata": {},
   "source": [
    "# Anagram Check\n",
    "\n",
    "### Problem\n",
    "Given two strings, check to see if they are anagrams. An anagram is when the two strings can be written using the exact same letters (so you can just rearrange the letters to get a different phrase or word).\n",
    "\n",
    "For example:<br>\n",
    "\"public relations\" is an anagram of \"crap built on lies.\"<br>\n",
    "\"clint eastwood\" is an anagram of \"old west action\"\n",
    "\n",
    "Note: Ignore spaces and capitalization. So \"d go\" is an anagram of \"God\" and \"dog\" and \"o d g\"."
   ]
  },
  {
   "cell_type": "markdown",
   "metadata": {},
   "source": [
    "## Approach 1\n",
    "### Using Python sting inbuilt functions and sorted method \n",
    "The approach i had taken to solve this problem is first of all preprocessing both the strings such as removing the whitespaces as well as converting into lower case<br/>\n",
    "for removing white space i will use replace() function of the string<br/>\n",
    "The replace() method replaces a specified phrase with another specified phrase.<br/>\n",
    "Note: All occurrences of the specified phrase will be replaced, if nothing else is specified.<br/>\n",
    "##### Syntax\n",
    "string.replace(oldvalue, newvalue, count)<br/><br>\n",
    "For converting into lower case we will be using .lower() function for string."
   ]
  },
  {
   "cell_type": "code",
   "execution_count": 8,
   "metadata": {},
   "outputs": [
    {
     "name": "stdout",
     "output_type": "stream",
     "text": [
      "Enter the first string to check for anagram:ad\n",
      "Enter the second string to check for anagram:DA\n"
     ]
    }
   ],
   "source": [
    "str1 = input(\"Enter the first string to check for anagram:\")\n",
    "str2 = input(\"Enter the second string to check for anagram:\")\n",
    "str1 = str1.replace(\" \",\"\").lower()\n",
    "str2 = str2.replace(\" \",\"\").lower()"
   ]
  },
  {
   "cell_type": "markdown",
   "metadata": {},
   "source": [
    "Now we have our strings preprocessed so we can check if they are anagrams or not but before checking the last step that's <br> remaining is we need to order the characters of the string. For this we will be using sorted function().<br>\n",
    "The sorted() function returns a sorted list from the items in an iterable.<br>\n",
    "##### The syntax of the sorted() function is:<br>\n",
    "\n",
    "sorted(iterable, key=None, reverse=False)<br>\n",
    "<br>Lastly we need to compare both the strings either they are same or not\n"
   ]
  },
  {
   "cell_type": "code",
   "execution_count": 9,
   "metadata": {},
   "outputs": [
    {
     "name": "stdout",
     "output_type": "stream",
     "text": [
      "Both Strings are Anagrams\n"
     ]
    }
   ],
   "source": [
    "if sorted(str1) == sorted(str2):\n",
    "    print(\"Both Strings are Anagrams\")\n",
    "else :\n",
    "    print(\"Both Strings are not Anagrams\")"
   ]
  },
  {
   "cell_type": "markdown",
   "metadata": {},
   "source": [
    "## Approach 2\n",
    "### Using dictionary in Python\n",
    "We can keep track of the occurence of the characters in the string to solve this question<br>\n",
    "First we can make a dictionary using first string and keeping each unique character as key and the occurence as their values<br>\n",
    "Then using second string we can subtract the occurence of each character in the same dictionary and if the value <br>of each key in the dictionary is zero that indicates that the strings are anagrams.  "
   ]
  },
  {
   "cell_type": "code",
   "execution_count": 17,
   "metadata": {},
   "outputs": [],
   "source": [
    "letter_counts = {}\n",
    "def anagram_check(s1,s2):\n",
    "    for i in str1:\n",
    "        if i in letter_counts:\n",
    "            letter_counts[i]+=1\n",
    "        else:\n",
    "            letter_counts[i]=1\n",
    "\n",
    "    for i in str2:\n",
    "        if i in letter_counts:\n",
    "            letter_counts[i]-=1\n",
    "        else:\n",
    "            return False\n",
    "    for i in letter_counts:\n",
    "        if letter_counts[i]!=0:\n",
    "            return False\n",
    "    return True"
   ]
  },
  {
   "cell_type": "code",
   "execution_count": 18,
   "metadata": {},
   "outputs": [
    {
     "name": "stdout",
     "output_type": "stream",
     "text": [
      "Enter the first string to check for anagram:public relations\n",
      "Enter the second string to check for anagram:crap built on lies\n"
     ]
    }
   ],
   "source": [
    "str1 = input(\"Enter the first string to check for anagram:\")\n",
    "str2 = input(\"Enter the second string to check for anagram:\")\n",
    "str1 = str1.replace(\" \",\"\").lower()\n",
    "str2 = str2.replace(\" \",\"\").lower()"
   ]
  },
  {
   "cell_type": "code",
   "execution_count": 19,
   "metadata": {},
   "outputs": [
    {
     "name": "stdout",
     "output_type": "stream",
     "text": [
      "Both Strings are Anagrams\n"
     ]
    }
   ],
   "source": [
    "if(anagram_check(str1,str2)):\n",
    "    print(\"Both Strings are Anagrams\")\n",
    "else :\n",
    "    print(\"Both Strings are not Anagrams\")\n",
    "    "
   ]
  },
  {
   "cell_type": "code",
   "execution_count": null,
   "metadata": {},
   "outputs": [],
   "source": []
  }
 ],
 "metadata": {
  "kernelspec": {
   "display_name": "Python 3",
   "language": "python",
   "name": "python3"
  },
  "language_info": {
   "codemirror_mode": {
    "name": "ipython",
    "version": 3
   },
   "file_extension": ".py",
   "mimetype": "text/x-python",
   "name": "python",
   "nbconvert_exporter": "python",
   "pygments_lexer": "ipython3",
   "version": "3.7.4"
  }
 },
 "nbformat": 4,
 "nbformat_minor": 2
}
