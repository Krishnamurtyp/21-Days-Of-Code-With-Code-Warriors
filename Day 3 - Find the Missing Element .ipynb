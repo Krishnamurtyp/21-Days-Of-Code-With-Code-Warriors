{
 "cells": [
  {
   "cell_type": "markdown",
   "metadata": {},
   "source": [
    "# Find the Missing Element\n",
    "## Problem\n",
    "Consider an array of non-negative integers. A second array is formed by shuffling the elements of the first array and deleting a random element. Given these two arrays, find which element is missing in the second array.\n",
    "\n",
    "Here is an example input, the first array is shuffled and the number 5 is removed to construct the second array.\n",
    "\n",
    "Input:\n",
    "\n",
    "finder([1,2,3,4,5,6,7],[3,7,2,1,4,6])\n",
    "Output:\n",
    "\n",
    "5 is the missing number"
   ]
  },
  {
   "cell_type": "markdown",
   "metadata": {},
   "source": [
    "## Solution\n",
    "We are going to discuss four possible solutions to this Problem <br>\n",
    "## Approach 1\n",
    "### Using zip and comparing element wise\n",
    "In the first approach we will first sort both the lists.<br>\n",
    "After sorting the list we will use zip() method to perform element wise comparison of the lists.<br>\n",
    "If we found any number that is not equal in both the list1 and list2 then that number in list1 is the missing number.<br>\n",
    "Lastly, if everything went good and there was match of each element then the last number of list 1 is the missing element."
   ]
  },
  {
   "cell_type": "code",
   "execution_count": 1,
   "metadata": {},
   "outputs": [],
   "source": [
    "def finder(arr1,arr2):\n",
    "    \n",
    "    # Sort the arrays\n",
    "    arr1.sort()\n",
    "    arr2.sort()\n",
    "    \n",
    "    # Compare elements in the sorted arrays\n",
    "    for num1, num2 in zip(arr1,arr2):\n",
    "        if num1!= num2:\n",
    "            return num1\n",
    "    \n",
    "    # Otherwise return last element\n",
    "    return arr1[-1]"
   ]
  },
  {
   "cell_type": "code",
   "execution_count": 2,
   "metadata": {},
   "outputs": [
    {
     "data": {
      "text/plain": [
       "5"
      ]
     },
     "execution_count": 2,
     "metadata": {},
     "output_type": "execute_result"
    }
   ],
   "source": [
    "arr1 = [1,2,3,4,5,6,7]\n",
    "arr2 = [3,7,2,1,4,6]\n",
    "finder(arr1,arr2)"
   ]
  },
  {
   "cell_type": "markdown",
   "metadata": {},
   "source": [
    "## Approach 2\n",
    "### Deleting the elements and returning the only element\n",
    "We will first make the copy of the bigger or first array<br>\n",
    "Then we will iterate through the copied list<br>\n",
    "If the element is present in list2 as well then we will remove the element from both the list<br>\n",
    "then at last we will return the only element present in list 1 and that will be the missing element"
   ]
  },
  {
   "cell_type": "code",
   "execution_count": 3,
   "metadata": {},
   "outputs": [],
   "source": [
    "def finder1(arr1,arr2):\n",
    "    arr3 = arr1.copy()\n",
    "    for i in arr3:\n",
    "        if i in arr2:\n",
    "            arr1.remove(i)\n",
    "            arr2.remove(i)\n",
    "    return arr1[0]"
   ]
  },
  {
   "cell_type": "code",
   "execution_count": 4,
   "metadata": {},
   "outputs": [
    {
     "data": {
      "text/plain": [
       "5"
      ]
     },
     "execution_count": 4,
     "metadata": {},
     "output_type": "execute_result"
    }
   ],
   "source": [
    "arr1 = [1,2,3,4,5,6,7]\n",
    "arr2 = [3,7,2,1,4,6]\n",
    "finder1(arr1,arr2)"
   ]
  },
  {
   "cell_type": "markdown",
   "metadata": {},
   "source": [
    "## Approach 3\n",
    "### Using dictionary in Python\n",
    "We can keep track of the occurrence of the elements in the List to solve this question<br>\n",
    "First we can make a dictionary using second list and keeping each unique character as key and the occurrence as their values<br>\n",
    "Then using first list we can make different conditions.<br>\n",
    "1.If the element is not present in dictionary then this is the missing number.<br>\n",
    "2.If the value at the specific key is 0 then the key is the missing number.<br>\n",
    "3.Else we need to subtract the value by 1<br>"
   ]
  },
  {
   "cell_type": "code",
   "execution_count": 5,
   "metadata": {},
   "outputs": [],
   "source": [
    "def finder2(arr1,arr2):\n",
    "    dict1={}\n",
    "    for i in arr2:\n",
    "        if i not in dict1:\n",
    "            dict1[i]=1\n",
    "        else:\n",
    "            dict1[i]+=1\n",
    "\n",
    "    for i in arr1:\n",
    "        if i not in dict1:\n",
    "            return i\n",
    "        if dict1[i]==0:\n",
    "            return i\n",
    "        else:\n",
    "            dict1[i]-=1"
   ]
  },
  {
   "cell_type": "code",
   "execution_count": 6,
   "metadata": {},
   "outputs": [
    {
     "data": {
      "text/plain": [
       "5"
      ]
     },
     "execution_count": 6,
     "metadata": {},
     "output_type": "execute_result"
    }
   ],
   "source": [
    "arr1 = [1,2,3,4,5,6,7]\n",
    "arr2 = [3,7,2,1,4,6]\n",
    "finder2(arr1,arr2)"
   ]
  },
  {
   "cell_type": "markdown",
   "metadata": {},
   "source": [
    "## Approach 4\n",
    "### Adding all the elements and subtracting both the lists.\n",
    "This is the most easiest approach. Here we can add all the elements of both the lists and then subtract the final sum of both the lists."
   ]
  },
  {
   "cell_type": "code",
   "execution_count": 7,
   "metadata": {},
   "outputs": [],
   "source": [
    "def finder3(arr1,arr2):\n",
    "    return sum(arr1)-sum(arr2)"
   ]
  },
  {
   "cell_type": "code",
   "execution_count": 8,
   "metadata": {},
   "outputs": [
    {
     "data": {
      "text/plain": [
       "5"
      ]
     },
     "execution_count": 8,
     "metadata": {},
     "output_type": "execute_result"
    }
   ],
   "source": [
    "arr1 = [1,2,3,4,5,6,7]\n",
    "arr2 = [3,7,2,1,4,6]\n",
    "finder3(arr1,arr2)"
   ]
  }
 ],
 "metadata": {
  "kernelspec": {
   "display_name": "Python 3",
   "language": "python",
   "name": "python3"
  },
  "language_info": {
   "codemirror_mode": {
    "name": "ipython",
    "version": 3
   },
   "file_extension": ".py",
   "mimetype": "text/x-python",
   "name": "python",
   "nbconvert_exporter": "python",
   "pygments_lexer": "ipython3",
   "version": "3.7.4"
  }
 },
 "nbformat": 4,
 "nbformat_minor": 2
}
