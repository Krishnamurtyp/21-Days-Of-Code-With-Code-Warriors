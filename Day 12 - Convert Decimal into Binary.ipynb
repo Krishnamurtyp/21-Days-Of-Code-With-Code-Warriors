{
 "cells": [
  {
   "cell_type": "markdown",
   "metadata": {},
   "source": [
    "# Convert Decimal Integer to Binary"
   ]
  },
  {
   "attachments": {},
   "cell_type": "markdown",
   "metadata": {},
   "source": [
    "In this coding exercise, you are required to use the stack data structure(List can also be used) to convert integer values to their binary equivalent.<br>\n",
    "### Division by 2 Method \n",
    "The image below show how to use the division by 2 method to compute the binary equivalent for an integer.\n",
    "\n",
    "![Image](https://i.ibb.co/BCYNvGc/a.jpg)"
   ]
  },
  {
   "cell_type": "markdown",
   "metadata": {},
   "source": [
    "So using division by 2 approach we can solve this problem.<br>"
   ]
  },
  {
   "cell_type": "markdown",
   "metadata": {},
   "source": [
    "## Solution\n",
    "We will use a Python List as a stack and then we will use **Division By 2** method to solve this problem.<br>\n",
    "Here's the approach:-<br>\n",
    "To convert integer to binary, start with the integer in question and divide it by 2 keeping notice of the quotient and the remainder.<br>Continue dividing the quotient by 2 until you get a quotient of zero. Then just write out the remainders in the reverse order.<br>\n",
    "### Algorithm:<br>\n",
    "Store the remainder when the number is divided by 2 in an array.<br>\n",
    "Divide the number by 2<br>\n",
    "Repeat the above two steps until the number is greater than zero.<br>\n",
    "Print the array in reverse order now.<br>\n",
    "\n",
    "\n",
    "For Example:<br>\n",
    "If the binary number is 10.<br>\n",
    "Step 1: Remainder when 10 is divided by 2 is zero. Therefore, arr[0] = 0.<br>\n",
    "Step 2: Divide 10 by 2. New number is 10/2 = 5.<br>\n",
    "Step 3: Remainder when 5 is divided by 2 is 1. Therefore, arr[1] = 1.<br>\n",
    "Step 4: Divide 5 by 2. New number is 5/2 = 2.<br>\n",
    "Step 5: Remainder when 2 is divided by 2 is zero. Therefore, arr[2] = 0.<br>\n",
    "Step 6: Divide 2 by 2. New number is 2/2 = 1.<br>\n",
    "Step 7: Remainder when 1 is divided by 2 is 1. Therefore, arr[3] = 1.<br>\n",
    "Step 8: Divide 1 by 2. New number is 1/2 = 0.<br>\n",
    "Step 9: Since number becomes = 0. Print the array in reverse order. Therefore the equivalent binary number is 1010.<br>"
   ]
  },
  {
   "cell_type": "code",
   "execution_count": 23,
   "metadata": {},
   "outputs": [],
   "source": [
    "def dec2bin(num):\n",
    "    s=[]\n",
    "    while num!=0:\n",
    "        s.append(num%2)\n",
    "        num=num//2\n",
    "    binary = \"\"\n",
    "    while len(s)!=0:\n",
    "        binary+=str(s.pop())\n",
    "    return binary"
   ]
  },
  {
   "cell_type": "code",
   "execution_count": 24,
   "metadata": {},
   "outputs": [
    {
     "data": {
      "text/plain": [
       "'11001'"
      ]
     },
     "execution_count": 24,
     "metadata": {},
     "output_type": "execute_result"
    }
   ],
   "source": [
    "dec2bin(25)"
   ]
  }
 ],
 "metadata": {
  "kernelspec": {
   "display_name": "Python 3",
   "language": "python",
   "name": "python3"
  },
  "language_info": {
   "codemirror_mode": {
    "name": "ipython",
    "version": 3
   },
   "file_extension": ".py",
   "mimetype": "text/x-python",
   "name": "python",
   "nbconvert_exporter": "python",
   "pygments_lexer": "ipython3",
   "version": "3.7.4"
  }
 },
 "nbformat": 4,
 "nbformat_minor": 2
}
