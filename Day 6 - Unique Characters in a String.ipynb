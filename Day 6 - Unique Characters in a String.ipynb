{
 "cells": [
  {
   "cell_type": "markdown",
   "metadata": {},
   "source": [
    "# Unique Characters in String\n",
    "\n",
    "## Problem\n",
    "Given a string,determine if it is compreised of all unique characters. For example, the string 'abcde' has all unique characters and should return True. The string 'aabcde' contains duplicate characters and should return false."
   ]
  },
  {
   "cell_type": "markdown",
   "metadata": {},
   "source": [
    "## Solution\n",
    "### Approach 1\n",
    "#### Using dictionary\n",
    "In this approach we will first check if the length of string is less than 2 if it satisfies the condition that means there's not a chance of having duplication.<br>\n",
    "Then we will initialise a dictionary and iterate through the string.<br>\n",
    "If at any loop we find that the character is already in the dictionary then we had to return false as we encountered the duplication of characters.<br>\n",
    "if all went well then Lastly, we will return True"
   ]
  },
  {
   "cell_type": "code",
   "execution_count": 1,
   "metadata": {},
   "outputs": [],
   "source": [
    "def uni_char(s):\n",
    "    if len(s)<2:\n",
    "        return True\n",
    "    char_count={}\n",
    "    for i in s:\n",
    "        if i in char_count:\n",
    "            return False\n",
    "        else:\n",
    "            char_count[i]=1\n",
    "    return True\n",
    "        "
   ]
  },
  {
   "cell_type": "markdown",
   "metadata": {},
   "source": [
    "### Approach 2\n",
    "#### Using set and len() function\n",
    "In this approach we just need to convert the strig into set so that duplicate characters will be removed from the string.<br>\n",
    "Then we can compare the length of original string and set."
   ]
  },
  {
   "cell_type": "code",
   "execution_count": 2,
   "metadata": {},
   "outputs": [],
   "source": [
    "def uni_char(s):\n",
    "    return len(set(s))==len(s)"
   ]
  }
 ],
 "metadata": {
  "kernelspec": {
   "display_name": "Python 3",
   "language": "python",
   "name": "python3"
  },
  "language_info": {
   "codemirror_mode": {
    "name": "ipython",
    "version": 3
   },
   "file_extension": ".py",
   "mimetype": "text/x-python",
   "name": "python",
   "nbconvert_exporter": "python",
   "pygments_lexer": "ipython3",
   "version": "3.7.4"
  }
 },
 "nbformat": 4,
 "nbformat_minor": 2
}
