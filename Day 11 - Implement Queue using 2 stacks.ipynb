{
 "cells": [
  {
   "cell_type": "markdown",
   "metadata": {},
   "source": [
    "# Implement a Queue - Using Two Stacks - SOLUTION\n",
    "\n",
    "Given the Stack class below, implement a Queue class using **two** stacks! Note, this is a \"classic\" interview problem. Use a Python list data structure as your Stack."
   ]
  },
  {
   "cell_type": "code",
   "execution_count": 30,
   "metadata": {
    "collapsed": true
   },
   "outputs": [],
   "source": [
    "stack1 = []\n",
    "stack2 = []"
   ]
  },
  {
   "cell_type": "markdown",
   "metadata": {},
   "source": [
    "## Solution\n",
    "\n",
    "The key insight is that a stack reverses order (while a queue doesn't). A sequence of elements pushed on a stack comes back in reversed order when popped. Consequently, two stacks chained together will return elements in the same order, since reversed order reversed again is original order.\n",
    "\n",
    " We use an in-stack that we fill when an element is enqueued and the dequeue operation takes elements from an out-stack. If the out-stack is empty we pop all elements from the in-stack and push them onto the out-stack. \n",
    " \n",
    "## Algorithm for queue using two stacks\n",
    "\n",
    "For example: Suppose we push \"a\", \"b, \"c\" to a stack. If we are trying to implement a queue and we call the dequeue method 3 times,<br> we actually want the elements to come out in the order: \"a\", \"b, \"c\", which is in the opposite order they would come out if we popped from the stack. So, basically, we need to access the elements in the reverse order that they exist in the stack. The following algorithm will implement a queue using two stacks.\n",
    "\n",
    "(1) When calling the enqueue method, simply push the elements into the stack 1.\n",
    "(2) If the dequeue method is called, push all the elements from stack 1 into stack 2, which reverses the order of the elements. Now pop from stack 2."
   ]
  },
  {
   "cell_type": "code",
   "execution_count": 11,
   "metadata": {},
   "outputs": [],
   "source": [
    "class Queue2Stacks(object):\n",
    "    \n",
    "    def __init__(self):\n",
    "        \n",
    "        # Two Stacks\n",
    "        self.instack = []\n",
    "        self.outstack = []\n",
    "     \n",
    "    def enqueue(self,element):\n",
    "        \n",
    "        # Add an enqueue with the \"IN\" stack\n",
    "        self.instack.append(element)\n",
    "    \n",
    "    def dequeue(self):\n",
    "        if not self.outstack:\n",
    "            while self.instack:\n",
    "                # Add the elements to the outstack to reverse the order when called\n",
    "                self.outstack.append(self.instack.pop())\n",
    "        return self.outstack.pop()  "
   ]
  }
 ],
 "metadata": {
  "kernelspec": {
   "display_name": "Python 3",
   "language": "python",
   "name": "python3"
  },
  "language_info": {
   "codemirror_mode": {
    "name": "ipython",
    "version": 3
   },
   "file_extension": ".py",
   "mimetype": "text/x-python",
   "name": "python",
   "nbconvert_exporter": "python",
   "pygments_lexer": "ipython3",
   "version": "3.7.4"
  }
 },
 "nbformat": 4,
 "nbformat_minor": 2
}
