{
 "cells": [
  {
   "cell_type": "markdown",
   "metadata": {},
   "source": [
    "## Array Sum\n",
    "## Given an array A[] and a number x, check for pair in A[] with sum as x<br>\n",
    "Write a program that, given an array A[] of n numbers and another number x, determines whether or not there exist two elements in S whose sum is exactly x."
   ]
  },
  {
   "cell_type": "markdown",
   "metadata": {},
   "source": [
    "Input: arr[] = {0, -1, 2, -3, 1}<br>\n",
    "        sum = -2<br>\n",
    "Output: -3, 1<br>\n",
    "If we calculate the sum of the output,<br>\n",
    "1 + (-3) = -2<br><br>\n",
    "\n",
    "Input: arr[] = {1, -2, 1, 0, 5}<br>\n",
    "       sum = 0<br>\n",
    "Output: -1<br>\n",
    "No valid pair exists."
   ]
  },
  {
   "cell_type": "markdown",
   "metadata": {},
   "source": [
    "## Approach 1\n",
    "### Sorting and Two-Pointers technique\n"
   ]
  },
  {
   "cell_type": "markdown",
   "metadata": {},
   "source": [
    "In this approach firstly we will sort the array then we will take two pointers suppose i and j<br>\n",
    "i will point the first index of list and j will point the last index of list<br>\n",
    "then we will add both the numbers at index i and j and if the sum matches then we can print the numbers<br>\n",
    "if the sum is less than the desired sum then we can increment i<br>\n",
    "and lastly if the sum is more than the desired than we can decrement j"
   ]
  },
  {
   "cell_type": "code",
   "execution_count": 17,
   "metadata": {},
   "outputs": [],
   "source": [
    "def array_sum(arr,sum):\n",
    "    if len(arr)<2:\n",
    "        return -1\n",
    "    arr.sort()\n",
    "    global i,j\n",
    "    i = arr[0]\n",
    "    j = arr[-1]\n",
    "    while(i<j):\n",
    "        if arr[i]+arr[j]==sum:\n",
    "            return 1\n",
    "        if arr[i]+arr[j]>sum:\n",
    "            j=j-1\n",
    "        else:\n",
    "            i+=1\n",
    "    return -1\n",
    "            "
   ]
  },
  {
   "cell_type": "code",
   "execution_count": 19,
   "metadata": {},
   "outputs": [
    {
     "name": "stdout",
     "output_type": "stream",
     "text": [
      "0 and -3 is the pair\n"
     ]
    }
   ],
   "source": [
    "arr = [0, -1, 2, -3, 1]\n",
    "pair = array_sum(arr,-3)\n",
    "if num == -1:\n",
    "    print(\"No pair found\")\n",
    "else:\n",
    "    print(arr[i],\"and\",arr[j],\"is the pair\")"
   ]
  },
  {
   "cell_type": "code",
   "execution_count": null,
   "metadata": {},
   "outputs": [],
   "source": []
  }
 ],
 "metadata": {
  "kernelspec": {
   "display_name": "Python 3",
   "language": "python",
   "name": "python3"
  },
  "language_info": {
   "codemirror_mode": {
    "name": "ipython",
    "version": 3
   },
   "file_extension": ".py",
   "mimetype": "text/x-python",
   "name": "python",
   "nbconvert_exporter": "python",
   "pygments_lexer": "ipython3",
   "version": "3.7.4"
  }
 },
 "nbformat": 4,
 "nbformat_minor": 2
}
